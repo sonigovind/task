{
  "nbformat": 4,
  "nbformat_minor": 0,
  "metadata": {
    "colab": {
      "provenance": []
    },
    "kernelspec": {
      "name": "python3",
      "display_name": "Python 3"
    },
    "language_info": {
      "name": "python"
    }
  },
  "cells": [
    {
      "cell_type": "markdown",
      "source": [
        "# For the Document **similarity**"
      ],
      "metadata": {
        "id": "ukvIcI_CS1wo"
      }
    },
    {
      "cell_type": "markdown",
      "source": [
        "# Work Discription Should Match in All Bididng Documents. With the help of Cosine similarity, we can match discription text from the bidder's **documents**"
      ],
      "metadata": {
        "id": "kLIJFyQoTE5I"
      }
    },
    {
      "cell_type": "code",
      "source": [
        "!pip install gensim"
      ],
      "metadata": {
        "colab": {
          "base_uri": "https://localhost:8080/"
        },
        "id": "0KV08p9qdgXa",
        "outputId": "7b2525af-353c-45cc-8dce-0c2f1873e073"
      },
      "execution_count": null,
      "outputs": [
        {
          "output_type": "stream",
          "name": "stdout",
          "text": [
            "Looking in indexes: https://pypi.org/simple, https://us-python.pkg.dev/colab-wheels/public/simple/\n",
            "Requirement already satisfied: gensim in /usr/local/lib/python3.7/dist-packages (3.6.0)\n",
            "Requirement already satisfied: six>=1.5.0 in /usr/local/lib/python3.7/dist-packages (from gensim) (1.15.0)\n",
            "Requirement already satisfied: scipy>=0.18.1 in /usr/local/lib/python3.7/dist-packages (from gensim) (1.7.3)\n",
            "Requirement already satisfied: numpy>=1.11.3 in /usr/local/lib/python3.7/dist-packages (from gensim) (1.21.6)\n",
            "Requirement already satisfied: smart-open>=1.2.1 in /usr/local/lib/python3.7/dist-packages (from gensim) (5.2.1)\n"
          ]
        }
      ]
    },
    {
      "cell_type": "code",
      "source": [
        "\n",
        "import nltk\n",
        "nltk.download('punkt')"
      ],
      "metadata": {
        "colab": {
          "base_uri": "https://localhost:8080/"
        },
        "id": "QIcZnNe6eVqr",
        "outputId": "aa8fe093-4a39-4a3c-ff52-ba3c591ed516"
      },
      "execution_count": null,
      "outputs": [
        {
          "output_type": "stream",
          "name": "stderr",
          "text": [
            "[nltk_data] Downloading package punkt to /root/nltk_data...\n",
            "[nltk_data]   Unzipping tokenizers/punkt.zip.\n"
          ]
        },
        {
          "output_type": "execute_result",
          "data": {
            "text/plain": [
              "True"
            ]
          },
          "metadata": {},
          "execution_count": 6
        }
      ]
    },
    {
      "cell_type": "code",
      "execution_count": null,
      "metadata": {
        "id": "ZrjwaAALce0y"
      },
      "outputs": [],
      "source": [
        "import gensim\n",
        "from gensim.models.doc2vec import Doc2Vec, TaggedDocument\n",
        "from nltk.tokenize import word_tokenize\n",
        "from gensim.models.doc2vec import Doc2Vec"
      ]
    },
    {
      "cell_type": "code",
      "source": [
        "data = [\"The process of searching for a job can be very stressful, but it doesn’t have to be. Start with a\\\n",
        "        well-written resume that has appropriate keywords for your occupation. Next, conduct a targeted job search\\\n",
        "        for positions that meet your needs.\",\n",
        "        \"Gardening in mixed beds is a great way to get the most productivity from a small space. Some investment\\\n",
        "        is required, to purchase materials for the beds themselves, as well as soil and compost. The\\\n",
        "        investment will likely pay-off in terms of increased productivity.\",\n",
        "        \"Looking for a job can be very stressful, but it doesn’t have to be. Begin by writing a good resume with\\\n",
        "        appropriate keywords for your occupation. Second, target your job search for positions that match your\\\n",
        "        needs.\",]"
      ],
      "metadata": {
        "id": "V6MPErj4hfgE"
      },
      "execution_count": null,
      "outputs": []
    },
    {
      "cell_type": "markdown",
      "source": [
        "Storing Discription text to the data variable"
      ],
      "metadata": {
        "id": "eqA6aiRpUmZ4"
      }
    },
    {
      "cell_type": "code",
      "source": [
        "data = [\"\"\"Hiring of HEMMs (Shovels, Dumpers, Drills, Dozers,\\\n",
        "        Graders, Fog Canons etc.) for transfer & transportation\\\n",
        "        of materials in various strata including drilling,\\\n",
        "        excavation, dumping, spreading, dozing and other allied\\ \n",
        "            works in specified areas for dumping for exposing \\\n",
        "            various coal seams from surface, down to seam II B at\\ \n",
        "            Ananta OCP as per the instructions of Project \\\n",
        "            Officer/Management of Ananta OCP, Jagannath Area,\\ \n",
        "            MCL, for a quantity of 559,90,000 Cu.M.\n",
        "             .\"\"\",\"\"\"The pre-bid meeting shall be held in the office of General Manager (CMC), \n",
        "MCL on the scheduled date & time, if specified in the NIT. The purpose of the pre-bid meeting is \n",
        "to clarify the issues and to answer the questions on any matter that may be raised at that stage. \n",
        "Non-attendance at the pre-bid meeting will not be a cause for disqualification of bidder and it \n",
        "shall be presumed that the bidder does not require any clarification. If a Pre Bid meeting is held \n",
        "then the minutes of the Pre-Bid meeting shall be uploaded on the Portal, before start date of bid \n",
        "submission which can be viewed by all interested bidders.\"\"\"]"
      ],
      "metadata": {
        "id": "jaS_yicLcgEr"
      },
      "execution_count": null,
      "outputs": []
    },
    {
      "cell_type": "code",
      "source": [
        "tagged_data = [TaggedDocument(words=word_tokenize(_d.lower()), tags=[str(i)]) for i, _d in enumerate(data)]"
      ],
      "metadata": {
        "id": "cjOoWElWctIZ"
      },
      "execution_count": null,
      "outputs": []
    },
    {
      "cell_type": "code",
      "source": [
        "print (tagged_data)"
      ],
      "metadata": {
        "colab": {
          "base_uri": "https://localhost:8080/"
        },
        "id": "kg_TXTFgcun5",
        "outputId": "66bd4c8a-02de-4960-a9bd-5e91d613ece0"
      },
      "execution_count": null,
      "outputs": [
        {
          "output_type": "stream",
          "name": "stdout",
          "text": [
            "[TaggedDocument(words=['hiring', 'of', 'hemms', '(', 'shovels', ',', 'dumpers', ',', 'drills', ',', 'dozers', ',', 'graders', ',', 'fog', 'canons', 'etc', '.', ')', 'for', 'transfer', '&', 'transportation', 'of', 'materials', 'in', 'various', 'strata', 'including', 'drilling', ',', 'excavation', ',', 'dumping', ',', 'spreading', ',', 'dozing', 'and', 'other', 'allied\\\\', 'works', 'in', 'specified', 'areas', 'for', 'dumping', 'for', 'exposing', 'various', 'coal', 'seams', 'from', 'surface', ',', 'down', 'to', 'seam', 'ii', 'b', 'at\\\\', 'ananta', 'ocp', 'as', 'per', 'the', 'instructions', 'of', 'project', 'officer/management', 'of', 'ananta', 'ocp', ',', 'jagannath', 'area', ',', '\\\\', 'mcl', ',', 'for', 'a', 'quantity', 'of', '559,90,000', 'cu.m', '.', '.'], tags=['0']), TaggedDocument(words=['the', 'pre-bid', 'meeting', 'shall', 'be', 'held', 'in', 'the', 'office', 'of', 'general', 'manager', '(', 'cmc', ')', ',', 'mcl', 'on', 'the', 'scheduled', 'date', '&', 'time', ',', 'if', 'specified', 'in', 'the', 'nit', '.', 'the', 'purpose', 'of', 'the', 'pre-bid', 'meeting', 'is', 'to', 'clarify', 'the', 'issues', 'and', 'to', 'answer', 'the', 'questions', 'on', 'any', 'matter', 'that', 'may', 'be', 'raised', 'at', 'that', 'stage', '.', 'non-attendance', 'at', 'the', 'pre-bid', 'meeting', 'will', 'not', 'be', 'a', 'cause', 'for', 'disqualification', 'of', 'bidder', 'and', 'it', 'shall', 'be', 'presumed', 'that', 'the', 'bidder', 'does', 'not', 'require', 'any', 'clarification', '.', 'if', 'a', 'pre', 'bid', 'meeting', 'is', 'held', 'then', 'the', 'minutes', 'of', 'the', 'pre-bid', 'meeting', 'shall', 'be', 'uploaded', 'on', 'the', 'portal', ',', 'before', 'start', 'date', 'of', 'bid', 'submission', 'which', 'can', 'be', 'viewed', 'by', 'all', 'interested', 'bidders', '.'], tags=['1'])]\n"
          ]
        }
      ]
    },
    {
      "cell_type": "code",
      "source": [
        "model = gensim.models.doc2vec.Doc2Vec(vector_size=30, min_count=2, epochs=80)"
      ],
      "metadata": {
        "colab": {
          "base_uri": "https://localhost:8080/"
        },
        "id": "tzzMjp1eeiul",
        "outputId": "a18df584-72be-42f9-a5ad-3098ed1de168"
      },
      "execution_count": null,
      "outputs": [
        {
          "output_type": "stream",
          "name": "stderr",
          "text": [
            "WARNING:gensim.models.base_any2vec:consider setting layer size to a multiple of 4 for greater performance\n"
          ]
        }
      ]
    },
    {
      "cell_type": "code",
      "source": [
        "model.build_vocab(tagged_data)"
      ],
      "metadata": {
        "id": "o17JtA1HemVb"
      },
      "execution_count": null,
      "outputs": []
    },
    {
      "cell_type": "code",
      "source": [
        "model.train(tagged_data, total_examples=model.corpus_count, epochs=80)"
      ],
      "metadata": {
        "id": "-srUWT37eqcq"
      },
      "execution_count": null,
      "outputs": []
    },
    {
      "cell_type": "code",
      "source": [
        "model.save(\"d2v.model\")"
      ],
      "metadata": {
        "id": "sUWAju0weugK"
      },
      "execution_count": null,
      "outputs": []
    },
    {
      "cell_type": "code",
      "source": [
        "model = Doc2Vec.load(\"d2v.model\")"
      ],
      "metadata": {
        "id": "K07h2kI_e1S6"
      },
      "execution_count": null,
      "outputs": []
    },
    {
      "cell_type": "code",
      "source": [
        "similar_doc = model.docvecs.most_similar('0')\n",
        "print(similar_doc[0])"
      ],
      "metadata": {
        "colab": {
          "base_uri": "https://localhost:8080/"
        },
        "id": "v1vbypH_e5Z6",
        "outputId": "ea734243-6b29-421e-d237-c08d5f0764fd"
      },
      "execution_count": null,
      "outputs": [
        {
          "output_type": "stream",
          "name": "stdout",
          "text": [
            "('1', 0.9984428882598877)\n"
          ]
        }
      ]
    },
    {
      "cell_type": "code",
      "source": [
        "test_data = word_tokenize(\"\"\"Hiring of HEMMs (Shovels, Dumpers, Drills, Dozers,\\\n",
        "        Graders, Fog Canons etc.) for transfer & transportation\\\n",
        "        of materials in various strata including drilling,\\\n",
        "        excavation, dumping, spreading, dozing and other allied\\ \n",
        "            works in specified areas for dumping for exposing \\\n",
        "            various coal seams from surface, down to seam II B at\\ \n",
        "            Ananta OCP as per the instructions of Project \\\n",
        "            Officer/Management of Ananta OCP, Jagannath Area,\\ \n",
        "            MCL, for a quantity of 559,90,000 Cu.M.\n",
        "             .\"\"\".lower())\n",
        "v1 = model.infer_vector(test_data)\n",
        "print(\"V1_infer\", v1)"
      ],
      "metadata": {
        "colab": {
          "base_uri": "https://localhost:8080/"
        },
        "id": "BO-6jHMZfNCK",
        "outputId": "54d81934-8b6d-4254-fc33-abd398e633f2"
      },
      "execution_count": null,
      "outputs": [
        {
          "output_type": "stream",
          "name": "stdout",
          "text": [
            "V1_infer [-1.28558080e-03  2.14473139e-02 -2.73331348e-02 -2.74974704e-02\n",
            " -1.80601180e-02  5.36281876e-02 -4.64204419e-03 -2.55022980e-02\n",
            "  2.91103348e-02 -1.85244270e-02 -1.47363255e-02 -1.85917374e-02\n",
            " -2.56485250e-02  2.44689193e-02 -7.73240104e-02  1.52512370e-02\n",
            " -5.38540262e-05 -6.81222081e-02  3.40065248e-02  3.02181263e-02\n",
            " -2.48757713e-02  1.80235039e-02  1.97675303e-02 -5.42516932e-02\n",
            " -4.48961407e-02  1.19169978e-02  5.41790426e-02  3.46230663e-04\n",
            " -3.11518162e-02 -2.23883265e-03]\n"
          ]
        }
      ]
    },
    {
      "cell_type": "code",
      "source": [
        "!pip install spacy"
      ],
      "metadata": {
        "id": "6YPYjIaagG4L",
        "colab": {
          "base_uri": "https://localhost:8080/"
        },
        "outputId": "355e7342-7d1a-408e-f2d4-862a1bc86c06"
      },
      "execution_count": null,
      "outputs": [
        {
          "output_type": "stream",
          "name": "stdout",
          "text": [
            "Looking in indexes: https://pypi.org/simple, https://us-python.pkg.dev/colab-wheels/public/simple/\n",
            "Requirement already satisfied: spacy in /usr/local/lib/python3.7/dist-packages (3.4.1)\n",
            "Requirement already satisfied: spacy-loggers<2.0.0,>=1.0.0 in /usr/local/lib/python3.7/dist-packages (from spacy) (1.0.3)\n",
            "Requirement already satisfied: wasabi<1.1.0,>=0.9.1 in /usr/local/lib/python3.7/dist-packages (from spacy) (0.10.1)\n",
            "Requirement already satisfied: tqdm<5.0.0,>=4.38.0 in /usr/local/lib/python3.7/dist-packages (from spacy) (4.64.1)\n",
            "Requirement already satisfied: typer<0.5.0,>=0.3.0 in /usr/local/lib/python3.7/dist-packages (from spacy) (0.4.2)\n",
            "Requirement already satisfied: pydantic!=1.8,!=1.8.1,<1.10.0,>=1.7.4 in /usr/local/lib/python3.7/dist-packages (from spacy) (1.9.2)\n",
            "Requirement already satisfied: numpy>=1.15.0 in /usr/local/lib/python3.7/dist-packages (from spacy) (1.21.6)\n",
            "Requirement already satisfied: preshed<3.1.0,>=3.0.2 in /usr/local/lib/python3.7/dist-packages (from spacy) (3.0.7)\n",
            "Requirement already satisfied: langcodes<4.0.0,>=3.2.0 in /usr/local/lib/python3.7/dist-packages (from spacy) (3.3.0)\n",
            "Requirement already satisfied: srsly<3.0.0,>=2.4.3 in /usr/local/lib/python3.7/dist-packages (from spacy) (2.4.4)\n",
            "Requirement already satisfied: setuptools in /usr/local/lib/python3.7/dist-packages (from spacy) (57.4.0)\n",
            "Requirement already satisfied: spacy-legacy<3.1.0,>=3.0.9 in /usr/local/lib/python3.7/dist-packages (from spacy) (3.0.10)\n",
            "Requirement already satisfied: pathy>=0.3.5 in /usr/local/lib/python3.7/dist-packages (from spacy) (0.6.2)\n",
            "Requirement already satisfied: thinc<8.2.0,>=8.1.0 in /usr/local/lib/python3.7/dist-packages (from spacy) (8.1.0)\n",
            "Requirement already satisfied: requests<3.0.0,>=2.13.0 in /usr/local/lib/python3.7/dist-packages (from spacy) (2.23.0)\n",
            "Requirement already satisfied: catalogue<2.1.0,>=2.0.6 in /usr/local/lib/python3.7/dist-packages (from spacy) (2.0.8)\n",
            "Requirement already satisfied: cymem<2.1.0,>=2.0.2 in /usr/local/lib/python3.7/dist-packages (from spacy) (2.0.6)\n",
            "Requirement already satisfied: jinja2 in /usr/local/lib/python3.7/dist-packages (from spacy) (2.11.3)\n",
            "Requirement already satisfied: murmurhash<1.1.0,>=0.28.0 in /usr/local/lib/python3.7/dist-packages (from spacy) (1.0.8)\n",
            "Requirement already satisfied: packaging>=20.0 in /usr/local/lib/python3.7/dist-packages (from spacy) (21.3)\n",
            "Requirement already satisfied: typing-extensions<4.2.0,>=3.7.4 in /usr/local/lib/python3.7/dist-packages (from spacy) (4.1.1)\n",
            "Requirement already satisfied: zipp>=0.5 in /usr/local/lib/python3.7/dist-packages (from catalogue<2.1.0,>=2.0.6->spacy) (3.8.1)\n",
            "Requirement already satisfied: pyparsing!=3.0.5,>=2.0.2 in /usr/local/lib/python3.7/dist-packages (from packaging>=20.0->spacy) (3.0.9)\n",
            "Requirement already satisfied: smart-open<6.0.0,>=5.2.1 in /usr/local/lib/python3.7/dist-packages (from pathy>=0.3.5->spacy) (5.2.1)\n",
            "Requirement already satisfied: urllib3!=1.25.0,!=1.25.1,<1.26,>=1.21.1 in /usr/local/lib/python3.7/dist-packages (from requests<3.0.0,>=2.13.0->spacy) (1.24.3)\n",
            "Requirement already satisfied: chardet<4,>=3.0.2 in /usr/local/lib/python3.7/dist-packages (from requests<3.0.0,>=2.13.0->spacy) (3.0.4)\n",
            "Requirement already satisfied: certifi>=2017.4.17 in /usr/local/lib/python3.7/dist-packages (from requests<3.0.0,>=2.13.0->spacy) (2022.6.15)\n",
            "Requirement already satisfied: idna<3,>=2.5 in /usr/local/lib/python3.7/dist-packages (from requests<3.0.0,>=2.13.0->spacy) (2.10)\n",
            "Requirement already satisfied: blis<0.8.0,>=0.7.8 in /usr/local/lib/python3.7/dist-packages (from thinc<8.2.0,>=8.1.0->spacy) (0.7.8)\n",
            "Requirement already satisfied: click<9.0.0,>=7.1.1 in /usr/local/lib/python3.7/dist-packages (from typer<0.5.0,>=0.3.0->spacy) (7.1.2)\n",
            "Requirement already satisfied: MarkupSafe>=0.23 in /usr/local/lib/python3.7/dist-packages (from jinja2->spacy) (2.0.1)\n"
          ]
        }
      ]
    },
    {
      "cell_type": "code",
      "source": [
        "import spacy"
      ],
      "metadata": {
        "id": "rJvfGmnCvY8f"
      },
      "execution_count": null,
      "outputs": []
    },
    {
      "cell_type": "code",
      "source": [
        "!python -m spacy download en_core_web_lg  "
      ],
      "metadata": {
        "colab": {
          "base_uri": "https://localhost:8080/"
        },
        "id": "peWR3oiIv_em",
        "outputId": "fb7166bd-11f4-4848-9867-6a97080d2167"
      },
      "execution_count": null,
      "outputs": [
        {
          "output_type": "stream",
          "name": "stdout",
          "text": [
            "2022-10-01 18:12:38.549381: E tensorflow/stream_executor/cuda/cuda_driver.cc:271] failed call to cuInit: CUDA_ERROR_NO_DEVICE: no CUDA-capable device is detected\n",
            "Looking in indexes: https://pypi.org/simple, https://us-python.pkg.dev/colab-wheels/public/simple/\n",
            "Collecting en-core-web-lg==3.4.0\n",
            "  Downloading https://github.com/explosion/spacy-models/releases/download/en_core_web_lg-3.4.0/en_core_web_lg-3.4.0-py3-none-any.whl (587.7 MB)\n",
            "\u001b[K     |████████████████████████████████| 587.7 MB 6.8 kB/s \n",
            "\u001b[?25hRequirement already satisfied: spacy<3.5.0,>=3.4.0 in /usr/local/lib/python3.7/dist-packages (from en-core-web-lg==3.4.0) (3.4.1)\n",
            "Requirement already satisfied: thinc<8.2.0,>=8.1.0 in /usr/local/lib/python3.7/dist-packages (from spacy<3.5.0,>=3.4.0->en-core-web-lg==3.4.0) (8.1.0)\n",
            "Requirement already satisfied: spacy-legacy<3.1.0,>=3.0.9 in /usr/local/lib/python3.7/dist-packages (from spacy<3.5.0,>=3.4.0->en-core-web-lg==3.4.0) (3.0.10)\n",
            "Requirement already satisfied: typer<0.5.0,>=0.3.0 in /usr/local/lib/python3.7/dist-packages (from spacy<3.5.0,>=3.4.0->en-core-web-lg==3.4.0) (0.4.2)\n",
            "Requirement already satisfied: catalogue<2.1.0,>=2.0.6 in /usr/local/lib/python3.7/dist-packages (from spacy<3.5.0,>=3.4.0->en-core-web-lg==3.4.0) (2.0.8)\n",
            "Requirement already satisfied: langcodes<4.0.0,>=3.2.0 in /usr/local/lib/python3.7/dist-packages (from spacy<3.5.0,>=3.4.0->en-core-web-lg==3.4.0) (3.3.0)\n",
            "Requirement already satisfied: typing-extensions<4.2.0,>=3.7.4 in /usr/local/lib/python3.7/dist-packages (from spacy<3.5.0,>=3.4.0->en-core-web-lg==3.4.0) (4.1.1)\n",
            "Requirement already satisfied: pydantic!=1.8,!=1.8.1,<1.10.0,>=1.7.4 in /usr/local/lib/python3.7/dist-packages (from spacy<3.5.0,>=3.4.0->en-core-web-lg==3.4.0) (1.9.2)\n",
            "Requirement already satisfied: jinja2 in /usr/local/lib/python3.7/dist-packages (from spacy<3.5.0,>=3.4.0->en-core-web-lg==3.4.0) (2.11.3)\n",
            "Requirement already satisfied: spacy-loggers<2.0.0,>=1.0.0 in /usr/local/lib/python3.7/dist-packages (from spacy<3.5.0,>=3.4.0->en-core-web-lg==3.4.0) (1.0.3)\n",
            "Requirement already satisfied: numpy>=1.15.0 in /usr/local/lib/python3.7/dist-packages (from spacy<3.5.0,>=3.4.0->en-core-web-lg==3.4.0) (1.21.6)\n",
            "Requirement already satisfied: tqdm<5.0.0,>=4.38.0 in /usr/local/lib/python3.7/dist-packages (from spacy<3.5.0,>=3.4.0->en-core-web-lg==3.4.0) (4.64.1)\n",
            "Requirement already satisfied: srsly<3.0.0,>=2.4.3 in /usr/local/lib/python3.7/dist-packages (from spacy<3.5.0,>=3.4.0->en-core-web-lg==3.4.0) (2.4.4)\n",
            "Requirement already satisfied: requests<3.0.0,>=2.13.0 in /usr/local/lib/python3.7/dist-packages (from spacy<3.5.0,>=3.4.0->en-core-web-lg==3.4.0) (2.23.0)\n",
            "Requirement already satisfied: setuptools in /usr/local/lib/python3.7/dist-packages (from spacy<3.5.0,>=3.4.0->en-core-web-lg==3.4.0) (57.4.0)\n",
            "Requirement already satisfied: pathy>=0.3.5 in /usr/local/lib/python3.7/dist-packages (from spacy<3.5.0,>=3.4.0->en-core-web-lg==3.4.0) (0.6.2)\n",
            "Requirement already satisfied: murmurhash<1.1.0,>=0.28.0 in /usr/local/lib/python3.7/dist-packages (from spacy<3.5.0,>=3.4.0->en-core-web-lg==3.4.0) (1.0.8)\n",
            "Requirement already satisfied: packaging>=20.0 in /usr/local/lib/python3.7/dist-packages (from spacy<3.5.0,>=3.4.0->en-core-web-lg==3.4.0) (21.3)\n",
            "Requirement already satisfied: cymem<2.1.0,>=2.0.2 in /usr/local/lib/python3.7/dist-packages (from spacy<3.5.0,>=3.4.0->en-core-web-lg==3.4.0) (2.0.6)\n",
            "Requirement already satisfied: wasabi<1.1.0,>=0.9.1 in /usr/local/lib/python3.7/dist-packages (from spacy<3.5.0,>=3.4.0->en-core-web-lg==3.4.0) (0.10.1)\n",
            "Requirement already satisfied: preshed<3.1.0,>=3.0.2 in /usr/local/lib/python3.7/dist-packages (from spacy<3.5.0,>=3.4.0->en-core-web-lg==3.4.0) (3.0.7)\n",
            "Requirement already satisfied: zipp>=0.5 in /usr/local/lib/python3.7/dist-packages (from catalogue<2.1.0,>=2.0.6->spacy<3.5.0,>=3.4.0->en-core-web-lg==3.4.0) (3.8.1)\n",
            "Requirement already satisfied: pyparsing!=3.0.5,>=2.0.2 in /usr/local/lib/python3.7/dist-packages (from packaging>=20.0->spacy<3.5.0,>=3.4.0->en-core-web-lg==3.4.0) (3.0.9)\n",
            "Requirement already satisfied: smart-open<6.0.0,>=5.2.1 in /usr/local/lib/python3.7/dist-packages (from pathy>=0.3.5->spacy<3.5.0,>=3.4.0->en-core-web-lg==3.4.0) (5.2.1)\n",
            "Requirement already satisfied: urllib3!=1.25.0,!=1.25.1,<1.26,>=1.21.1 in /usr/local/lib/python3.7/dist-packages (from requests<3.0.0,>=2.13.0->spacy<3.5.0,>=3.4.0->en-core-web-lg==3.4.0) (1.24.3)\n",
            "Requirement already satisfied: chardet<4,>=3.0.2 in /usr/local/lib/python3.7/dist-packages (from requests<3.0.0,>=2.13.0->spacy<3.5.0,>=3.4.0->en-core-web-lg==3.4.0) (3.0.4)\n",
            "Requirement already satisfied: idna<3,>=2.5 in /usr/local/lib/python3.7/dist-packages (from requests<3.0.0,>=2.13.0->spacy<3.5.0,>=3.4.0->en-core-web-lg==3.4.0) (2.10)\n",
            "Requirement already satisfied: certifi>=2017.4.17 in /usr/local/lib/python3.7/dist-packages (from requests<3.0.0,>=2.13.0->spacy<3.5.0,>=3.4.0->en-core-web-lg==3.4.0) (2022.6.15)\n",
            "Requirement already satisfied: blis<0.8.0,>=0.7.8 in /usr/local/lib/python3.7/dist-packages (from thinc<8.2.0,>=8.1.0->spacy<3.5.0,>=3.4.0->en-core-web-lg==3.4.0) (0.7.8)\n",
            "Requirement already satisfied: click<9.0.0,>=7.1.1 in /usr/local/lib/python3.7/dist-packages (from typer<0.5.0,>=0.3.0->spacy<3.5.0,>=3.4.0->en-core-web-lg==3.4.0) (7.1.2)\n",
            "Requirement already satisfied: MarkupSafe>=0.23 in /usr/local/lib/python3.7/dist-packages (from jinja2->spacy<3.5.0,>=3.4.0->en-core-web-lg==3.4.0) (2.0.1)\n",
            "Installing collected packages: en-core-web-lg\n",
            "Successfully installed en-core-web-lg-3.4.0\n",
            "\u001b[38;5;2m✔ Download and installation successful\u001b[0m\n",
            "You can now load the package via spacy.load('en_core_web_lg')\n"
          ]
        }
      ]
    },
    {
      "cell_type": "code",
      "source": [
        "nlp= spacy.load(\"en_core_web_lg\")"
      ],
      "metadata": {
        "id": "3uMVIzTlvdi9"
      },
      "execution_count": null,
      "outputs": []
    },
    {
      "cell_type": "code",
      "source": [
        "S1=nlp(\"\"\"Hiring of HEMMs (Shovels, Dumpers, Drills, Dozers,\\\n",
        "        Graders, Fog Canons etc.) for transfer & transportation\\\n",
        "        of materials in various strata including drilling,\\\n",
        "        excavation, dumping, spreading, dozing and other allied\\ \n",
        "            works in specified areas for dumping for exposing \\\n",
        "            various coal seams from surface, down to seam II B at\\ \n",
        "            Ananta OCP as per the instructions of Project \\\n",
        "            Officer/Management of Ananta OCP, Jagannath Area,\\ \n",
        "            MCL, for a quantity of 559,90,000 Cu.M.\n",
        "             .\"\"\")"
      ],
      "metadata": {
        "id": "BNzF72e9vo4N"
      },
      "execution_count": null,
      "outputs": []
    },
    {
      "cell_type": "code",
      "source": [
        "S2=nlp(\"\"\"WHEREAS M/s Godawari and M/s Deify and SCMPL. agreed to form a Joint Venture / Consortium it\n",
        "order to join their forces to obtain best results from the combinations of their individual resources 0\n",
        "technical and management skill, finance and equipment for the benefit of the project and in order t\n",
        "submit the Bid for the work of “Hiring of HEMMs (Shovels, Dumpers, Drills, Dozers, Graders, Fo,\n",
        "Canons ete.) for transfer & transportation of materials in various strata including drilling\n",
        "excavation, dumping, spreading, dozing and other allied works in specified areas for dumping for\n",
        "exposing various coal seams from surface, down to seam IL B at Ananta OCP as per th\n",
        "instructions of Project Officer/Management of Ananta OCP, Jagannath Area, MCL” (hereinafte\n",
        "referred to as “Project”) under Mahanadi Coalfields Limited (Name of Company (hereinafter referred t\n",
        "as “the principal Employer\"),\n",
        "             .\"\"\")"
      ],
      "metadata": {
        "id": "ilPN7Sybwjvu"
      },
      "execution_count": null,
      "outputs": []
    },
    {
      "cell_type": "markdown",
      "source": [
        "Here Similarity score of Discription text and paragraph which have taken from the bidder's document.having a similar discription then its shows higher similarity score."
      ],
      "metadata": {
        "id": "xjOebeM0UsYe"
      }
    },
    {
      "cell_type": "code",
      "source": [
        "S1.similarity(S2)"
      ],
      "metadata": {
        "colab": {
          "base_uri": "https://localhost:8080/"
        },
        "id": "KSGdy9powyXO",
        "outputId": "cddabc0b-191c-4edd-906e-b613b362e023"
      },
      "execution_count": null,
      "outputs": [
        {
          "output_type": "execute_result",
          "data": {
            "text/plain": [
              "0.9602068446282229"
            ]
          },
          "metadata": {},
          "execution_count": 65
        }
      ]
    },
    {
      "cell_type": "code",
      "source": [],
      "metadata": {
        "id": "8UewcgNQw9JO"
      },
      "execution_count": null,
      "outputs": []
    }
  ]
}